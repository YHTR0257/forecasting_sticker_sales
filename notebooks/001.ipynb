{
 "cells": [
  {
   "cell_type": "code",
   "execution_count": 10,
   "metadata": {},
   "outputs": [],
   "source": [
    "# import libraries\n",
    "import numpy as np\n",
    "import pandas as pd\n",
    "\n",
    "nb_name = '001'"
   ]
  },
  {
   "cell_type": "markdown",
   "metadata": {},
   "source": [
    "# データの理解\n",
    "EDA"
   ]
  },
  {
   "cell_type": "code",
   "execution_count": 3,
   "metadata": {},
   "outputs": [],
   "source": [
    "data_path = '../datas/train.csv'\n",
    "test_df = pd.read_csv(data_path)"
   ]
  },
  {
   "cell_type": "code",
   "execution_count": null,
   "metadata": {},
   "outputs": [
    {
     "name": "stdout",
     "output_type": "stream",
     "text": [
      "<class 'pandas.core.frame.DataFrame'>\n",
      "RangeIndex: 230130 entries, 0 to 230129\n",
      "Data columns (total 6 columns):\n",
      " #   Column    Non-Null Count   Dtype  \n",
      "---  ------    --------------   -----  \n",
      " 0   id        230130 non-null  int64  \n",
      " 1   date      230130 non-null  object \n",
      " 2   country   230130 non-null  object \n",
      " 3   store     230130 non-null  object \n",
      " 4   product   230130 non-null  object \n",
      " 5   num_sold  221259 non-null  float64\n",
      "dtypes: float64(1), int64(1), object(4)\n",
      "memory usage: 10.5+ MB\n"
     ]
    }
   ],
   "source": [
    "datas = ['test', 'train', 'sample_submission']\n",
    "for data in datas:\n",
    "    data_path = f'../datas/{data}.csv'\n",
    "    _data_doc = f'../docs/{nb_name}_{data}_doc.txt'\n",
    "    _df = pd.read_csv(data_path)\n",
    "    with open(_data_doc, 'w') as f:\n",
    "        f.write('Data Description\\n')\n",
    "        f.write('----------\\n')\n",
    "        f.write(f'{data} data has {_df.shape} and {len(_df.columns)} columns.\\n')\n",
    "        f.write(f'{data} data columns: {_df.columns}\\n')\n",
    "        f.write(f'{data} data head: {_df.head()}\\n')\n",
    "        f.write('----------\\n')\n",
    "        for col in _df.columns:\n",
    "            f.write(f'{col} has {_df[col].unique()}.\\n')\n",
    "            f.write(f'{col} has {_df[col].nunique()} unique values.\\n')\n",
    "            f.write('----------\\n')"
   ]
  },
  {
   "cell_type": "code",
   "execution_count": null,
   "metadata": {},
   "outputs": [],
   "source": []
  }
 ],
 "metadata": {
  "kernelspec": {
   "display_name": "datasci",
   "language": "python",
   "name": "python3"
  },
  "language_info": {
   "codemirror_mode": {
    "name": "ipython",
    "version": 3
   },
   "file_extension": ".py",
   "mimetype": "text/x-python",
   "name": "python",
   "nbconvert_exporter": "python",
   "pygments_lexer": "ipython3",
   "version": "3.13.1"
  }
 },
 "nbformat": 4,
 "nbformat_minor": 2
}
